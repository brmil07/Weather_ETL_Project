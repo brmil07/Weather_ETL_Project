{
 "cells": [
  {
   "cell_type": "markdown",
   "source": [
    "# Weather ETL Project\n",
    "---"
   ],
   "metadata": {
    "collapsed": false
   },
   "id": "e3a2289dcc42dc8e"
  },
  {
   "cell_type": "markdown",
   "source": [
    "Field in API Response\n",
    "---\n",
    "\n",
    "* coord.lon: Longitude data\n",
    "* coord.lat: Latitude data\n",
    "* weather.id: Weather condition id\n",
    "* weather.main: Group of weather parameters (Rain, Snow, Clouds etc.)\n",
    "* weather.description: Weather condition within the group\n",
    "* weather.icon: Weather icon id\n",
    "* base: Data source (e.g., stations)\n",
    "* main.temp: Temperature in Celsius\n",
    "* main.feels_like: \"Feels like\" temperature in Celsius\n",
    "* main.temp_min: Minimum temperature in Celsius\n",
    "* main.temp_max: Maximum temperature in Celsius\n",
    "* main.pressure: Atmospheric pressure in hPa (hectopascal)\n",
    "* main.humidity: Relative humidity in percentage\n",
    "* visibility: Visibility in meters\n",
    "* wind.speed: Wind speed in meters per second\n",
    "* wind.deg: Wind direction in degrees\n",
    "* clouds.all: Cloudiness in percentage\n",
    "* dt: Time of data calculation in Unix timestamp\n",
    "* sys.type: Type of data retrieval (1 for internal use, 2 for API)\n",
    "* sys.id: Internal parameter\n",
    "* sys.country: Country code (e.g., DE for Germany)\n",
    "* sys.sunrise: Sunrise time in Unix timestamp\n",
    "* sys.sunset: Sunset time in Unix timestamp\n",
    "* timezone: Shift in seconds from UTC\n",
    "* id: City ID\n",
    "* name: City name\n",
    "* cod: HTTP status code of the response (200 for success)"
   ],
   "metadata": {
    "collapsed": false
   },
   "id": "75c682ba7daa6a93"
  },
  {
   "cell_type": "code",
   "outputs": [],
   "source": [
    "from datetime import datetime\n",
    "import requests\n",
    "import pandas as pd"
   ],
   "metadata": {
    "collapsed": true,
    "ExecuteTime": {
     "end_time": "2024-03-08T12:32:31.064782Z",
     "start_time": "2024-03-08T12:32:31.058317Z"
    }
   },
   "id": "initial_id",
   "execution_count": 20
  },
  {
   "cell_type": "code",
   "outputs": [],
   "source": [
    "BASE_URL = 'http://api.openweathermap.org/data/2.5/weather?'\n",
    "API_KEY = 'c398a640e680959730b54b96d6876dda'"
   ],
   "metadata": {
    "collapsed": false,
    "ExecuteTime": {
     "end_time": "2024-03-08T12:17:34.292946Z",
     "start_time": "2024-03-08T12:17:34.276699Z"
    }
   },
   "id": "e43f3f0c89c6aae1",
   "execution_count": 2
  },
  {
   "cell_type": "code",
   "outputs": [],
   "source": [
    "# url = BASE_URL + \"appid=\" + API_KEY + \"&q=\" + CITY + \"&units=metric\"\n",
    "# # Send an HTTP GET request to the specified URL and then parse the response content, \n",
    "# # assuming it is in JSON format, and return it as a Python dictionary\n",
    "# response = requests.get(url).json()\n",
    "# response"
   ],
   "metadata": {
    "collapsed": false
   },
   "id": "dd19ad708058ff8f"
  },
  {
   "cell_type": "code",
   "outputs": [],
   "source": [
    "CITY = 'cologne'\n",
    "# Define an empty list to store responses\n",
    "responses = []\n",
    "\n",
    "current_date = datetime.today()\n",
    "unix_timestamp = int(current_date.timestamp())\n",
    "\n",
    "# Construct the URL for historical data for the current date\n",
    "url = BASE_URL + \"appid=\" + API_KEY + \"&q=\" + CITY + \"&units=metric\" + \"&dt=\" + str(unix_timestamp)\n",
    "\n",
    "# Make the request and append the response to the list\n",
    "response = requests.get(url).json()\n",
    "responses.append(response)\n",
    "\n",
    "responses"
   ],
   "metadata": {
    "collapsed": false
   },
   "id": "fb30b7942240fc7",
   "execution_count": null
  },
  {
   "cell_type": "code",
   "outputs": [],
   "source": [
    "CITY_LIST = ['berlin', 'cologne', 'duisburg', 'essen', 'hamburg', 'frankfurt', 'munich', 'stuttgart']\n",
    "response_data = []"
   ],
   "metadata": {
    "collapsed": false,
    "ExecuteTime": {
     "end_time": "2024-03-08T12:17:38.235488Z",
     "start_time": "2024-03-08T12:17:38.219161Z"
    }
   },
   "id": "ab8c86aec448909a",
   "execution_count": 3
  },
  {
   "cell_type": "code",
   "outputs": [
    {
     "data": {
      "text/plain": "[{'coord': {'lon': 13.4105, 'lat': 52.5244},\n  'weather': [{'id': 800,\n    'main': 'Clear',\n    'description': 'clear sky',\n    'icon': '01d'}],\n  'base': 'stations',\n  'main': {'temp': 9.17,\n   'feels_like': 6.93,\n   'temp_min': 6.67,\n   'temp_max': 11.04,\n   'pressure': 1004,\n   'humidity': 49},\n  'visibility': 10000,\n  'wind': {'speed': 4.12, 'deg': 110},\n  'clouds': {'all': 0},\n  'dt': 1709900073,\n  'sys': {'type': 2,\n   'id': 2011538,\n   'country': 'DE',\n   'sunrise': 1709876189,\n   'sunset': 1709917075},\n  'timezone': 3600,\n  'id': 2950159,\n  'name': 'Berlin',\n  'cod': 200},\n {'coord': {'lon': 6.95, 'lat': 50.9333},\n  'weather': [{'id': 800,\n    'main': 'Clear',\n    'description': 'clear sky',\n    'icon': '01d'}],\n  'base': 'stations',\n  'main': {'temp': 10.17,\n   'feels_like': 8.52,\n   'temp_min': 9.22,\n   'temp_max': 11.58,\n   'pressure': 1011,\n   'humidity': 49},\n  'visibility': 10000,\n  'wind': {'speed': 7.72, 'deg': 140},\n  'clouds': {'all': 0},\n  'dt': 1709900174,\n  'sys': {'type': 2,\n   'id': 2005976,\n   'country': 'DE',\n   'sunrise': 1709877666,\n   'sunset': 1709918698},\n  'timezone': 3600,\n  'id': 2886242,\n  'name': 'Cologne',\n  'cod': 200},\n {'coord': {'lon': 6.75, 'lat': 51.4333},\n  'weather': [{'id': 800,\n    'main': 'Clear',\n    'description': 'clear sky',\n    'icon': '01d'}],\n  'base': 'stations',\n  'main': {'temp': 10.84,\n   'feels_like': 9.21,\n   'temp_min': 8.83,\n   'temp_max': 12.34,\n   'pressure': 1011,\n   'humidity': 47},\n  'visibility': 10000,\n  'wind': {'speed': 8.75, 'deg': 120},\n  'clouds': {'all': 0},\n  'dt': 1709900244,\n  'sys': {'type': 1,\n   'id': 1264,\n   'country': 'DE',\n   'sunrise': 1709877736,\n   'sunset': 1709918725},\n  'timezone': 3600,\n  'id': 2934691,\n  'name': 'Duisburg',\n  'cod': 200},\n {'coord': {'lon': 7.0167, 'lat': 51.45},\n  'weather': [{'id': 800,\n    'main': 'Clear',\n    'description': 'clear sky',\n    'icon': '01d'}],\n  'base': 'stations',\n  'main': {'temp': 10.29,\n   'feels_like': 8.92,\n   'temp_min': 8.81,\n   'temp_max': 11.36,\n   'pressure': 1013,\n   'humidity': 59},\n  'visibility': 10000,\n  'wind': {'speed': 1.79, 'deg': 90, 'gust': 4.47},\n  'clouds': {'all': 2},\n  'dt': 1709900259,\n  'sys': {'type': 2,\n   'id': 2007921,\n   'country': 'DE',\n   'sunrise': 1709877673,\n   'sunset': 1709918660},\n  'timezone': 3600,\n  'id': 2928810,\n  'name': 'Essen',\n  'cod': 200},\n {'coord': {'lon': 10, 'lat': 53.55},\n  'weather': [{'id': 800,\n    'main': 'Clear',\n    'description': 'clear sky',\n    'icon': '01d'}],\n  'base': 'stations',\n  'main': {'temp': 7.36,\n   'feels_like': 3.65,\n   'temp_min': 6.05,\n   'temp_max': 8.49,\n   'pressure': 1019,\n   'humidity': 58},\n  'visibility': 10000,\n  'wind': {'speed': 6.69, 'deg': 110},\n  'clouds': {'all': 0},\n  'dt': 1709900078,\n  'sys': {'type': 1,\n   'id': 1263,\n   'country': 'DE',\n   'sunrise': 1709877055,\n   'sunset': 1709917846},\n  'timezone': 3600,\n  'id': 2911298,\n  'name': 'Hamburg',\n  'cod': 200},\n {'coord': {'lon': 8.6833, 'lat': 50.1167},\n  'weather': [{'id': 800,\n    'main': 'Clear',\n    'description': 'clear sky',\n    'icon': '01d'}],\n  'base': 'stations',\n  'main': {'temp': 9.55,\n   'feels_like': 6.45,\n   'temp_min': 8.28,\n   'temp_max': 11.04,\n   'pressure': 1012,\n   'humidity': 56},\n  'visibility': 10000,\n  'wind': {'speed': 6.69, 'deg': 110},\n  'clouds': {'all': 0},\n  'dt': 1709899981,\n  'sys': {'type': 2,\n   'id': 2081434,\n   'country': 'DE',\n   'sunrise': 1709877216,\n   'sunset': 1709918317},\n  'timezone': 3600,\n  'id': 2925533,\n  'name': 'Frankfurt am Main',\n  'cod': 200},\n {'coord': {'lon': 11.5755, 'lat': 48.1374},\n  'weather': [{'id': 802,\n    'main': 'Clouds',\n    'description': 'scattered clouds',\n    'icon': '03d'}],\n  'base': 'stations',\n  'main': {'temp': 8.39,\n   'feels_like': 8.39,\n   'temp_min': 7.18,\n   'temp_max': 10.9,\n   'pressure': 1012,\n   'humidity': 67},\n  'visibility': 10000,\n  'wind': {'speed': 0.89, 'deg': 298, 'gust': 4.92},\n  'clouds': {'all': 31},\n  'dt': 1709900000,\n  'sys': {'type': 2,\n   'id': 2002112,\n   'country': 'DE',\n   'sunrise': 1709876443,\n   'sunset': 1709917702},\n  'timezone': 3600,\n  'id': 2867714,\n  'name': 'Munich',\n  'cod': 200},\n {'coord': {'lon': 9.177, 'lat': 48.7823},\n  'weather': [{'id': 803,\n    'main': 'Clouds',\n    'description': 'broken clouds',\n    'icon': '04d'}],\n  'base': 'stations',\n  'main': {'temp': 7.78,\n   'feels_like': 4.97,\n   'temp_min': 6.78,\n   'temp_max': 10.28,\n   'pressure': 1010,\n   'humidity': 69},\n  'visibility': 10000,\n  'wind': {'speed': 4.63, 'deg': 70},\n  'clouds': {'all': 75},\n  'dt': 1709900065,\n  'sys': {'type': 1,\n   'id': 1274,\n   'country': 'DE',\n   'sunrise': 1709877043,\n   'sunset': 1709918252},\n  'timezone': 3600,\n  'id': 2825297,\n  'name': 'Stuttgart',\n  'cod': 200}]"
     },
     "execution_count": 4,
     "metadata": {},
     "output_type": "execute_result"
    }
   ],
   "source": [
    "current_date = datetime.today()\n",
    "unix_timestamp = int(current_date.timestamp())\n",
    "\n",
    "for i in range(len(CITY_LIST)):\n",
    "    CITY = CITY_LIST[i]\n",
    "    # Construct the URL for historical data for the current date\n",
    "    url = BASE_URL + \"appid=\" + API_KEY + \"&q=\" + CITY + \"&units=metric\" + \"&dt=\" + str(unix_timestamp)\n",
    "    \n",
    "    # Make the request and append the response to the list\n",
    "    response = requests.get(url).json()\n",
    "    response_data.append(response)\n",
    "\n",
    "response_data"
   ],
   "metadata": {
    "collapsed": false,
    "ExecuteTime": {
     "end_time": "2024-03-08T12:17:39.484756Z",
     "start_time": "2024-03-08T12:17:38.638738Z"
    }
   },
   "id": "bc73284dbbd94d2",
   "execution_count": 4
  },
  {
   "cell_type": "markdown",
   "source": [
    "# Converting into dataframe\n",
    "---"
   ],
   "metadata": {
    "collapsed": false
   },
   "id": "56ba87e31322fb3"
  },
  {
   "cell_type": "code",
   "outputs": [],
   "source": [
    "print('Minimum Temperature:', response_data[7]['main']['temp_min'], '*C')"
   ],
   "metadata": {
    "collapsed": false
   },
   "id": "17ed8f6a83dba212",
   "execution_count": null
  },
  {
   "cell_type": "code",
   "outputs": [],
   "source": [
    "sunrise_time = datetime.utcfromtimestamp(response_data[7]['sys']['sunrise'] + response_data[0]['timezone'])\n",
    "sunset_time = datetime.utcfromtimestamp(response_data[7]['sys']['sunset'] + response_data[0]['timezone'])\n",
    "\n",
    "print('Sunrise Time:', sunrise_time)\n",
    "print('Sunset Time:', sunset_time)"
   ],
   "metadata": {
    "collapsed": false
   },
   "id": "efd8c2a18060b873",
   "execution_count": null
  },
  {
   "cell_type": "code",
   "outputs": [
    {
     "data": {
      "text/plain": "Index(['base', 'visibility', 'dt', 'timezone', 'id', 'name', 'cod',\n       'coord.lon', 'coord.lat', 'main.temp', 'main.feels_like',\n       'main.temp_min', 'main.temp_max', 'main.pressure', 'main.humidity',\n       'wind.speed', 'wind.deg', 'clouds.all', 'sys.type', 'sys.id',\n       'sys.country', 'sys.sunrise', 'sys.sunset', 'id', 'main', 'description',\n       'icon'],\n      dtype='object')"
     },
     "execution_count": 5,
     "metadata": {},
     "output_type": "execute_result"
    }
   ],
   "source": [
    "# Convert the nested JSON data into a pandas DataFrame\n",
    "df = pd.json_normalize(response_data[0])\n",
    "data_df = pd.concat([df.drop(columns=['weather']), pd.json_normalize(df['weather'][0])], axis=1)\n",
    "data_df.columns"
   ],
   "metadata": {
    "collapsed": false,
    "ExecuteTime": {
     "end_time": "2024-03-08T12:17:50.762147Z",
     "start_time": "2024-03-08T12:17:50.739559Z"
    }
   },
   "id": "52de5faf88fc7496",
   "execution_count": 5
  },
  {
   "cell_type": "code",
   "outputs": [
    {
     "data": {
      "text/plain": "[{'coord': {'lon': 13.4105, 'lat': 52.5244},\n  'weather': [{'id': 800,\n    'main': 'Clear',\n    'description': 'clear sky',\n    'icon': '01d'}],\n  'base': 'stations',\n  'main': {'temp': 9.17,\n   'feels_like': 6.93,\n   'temp_min': 6.67,\n   'temp_max': 11.04,\n   'pressure': 1004,\n   'humidity': 49},\n  'visibility': 10000,\n  'wind': {'speed': 4.12, 'deg': 110},\n  'clouds': {'all': 0},\n  'dt': 1709900073,\n  'sys': {'type': 2,\n   'id': 2011538,\n   'country': 'DE',\n   'sunrise': 1709876189,\n   'sunset': 1709917075},\n  'timezone': 3600,\n  'id': 2950159,\n  'name': 'Berlin',\n  'cod': 200},\n {'coord': {'lon': 6.95, 'lat': 50.9333},\n  'weather': [{'id': 800,\n    'main': 'Clear',\n    'description': 'clear sky',\n    'icon': '01d'}],\n  'base': 'stations',\n  'main': {'temp': 10.17,\n   'feels_like': 8.52,\n   'temp_min': 9.22,\n   'temp_max': 11.58,\n   'pressure': 1011,\n   'humidity': 49},\n  'visibility': 10000,\n  'wind': {'speed': 7.72, 'deg': 140},\n  'clouds': {'all': 0},\n  'dt': 1709900174,\n  'sys': {'type': 2,\n   'id': 2005976,\n   'country': 'DE',\n   'sunrise': 1709877666,\n   'sunset': 1709918698},\n  'timezone': 3600,\n  'id': 2886242,\n  'name': 'Cologne',\n  'cod': 200},\n {'coord': {'lon': 6.75, 'lat': 51.4333},\n  'weather': [{'id': 800,\n    'main': 'Clear',\n    'description': 'clear sky',\n    'icon': '01d'}],\n  'base': 'stations',\n  'main': {'temp': 10.84,\n   'feels_like': 9.21,\n   'temp_min': 8.83,\n   'temp_max': 12.34,\n   'pressure': 1011,\n   'humidity': 47},\n  'visibility': 10000,\n  'wind': {'speed': 8.75, 'deg': 120},\n  'clouds': {'all': 0},\n  'dt': 1709900244,\n  'sys': {'type': 1,\n   'id': 1264,\n   'country': 'DE',\n   'sunrise': 1709877736,\n   'sunset': 1709918725},\n  'timezone': 3600,\n  'id': 2934691,\n  'name': 'Duisburg',\n  'cod': 200},\n {'coord': {'lon': 7.0167, 'lat': 51.45},\n  'weather': [{'id': 800,\n    'main': 'Clear',\n    'description': 'clear sky',\n    'icon': '01d'}],\n  'base': 'stations',\n  'main': {'temp': 10.29,\n   'feels_like': 8.92,\n   'temp_min': 8.81,\n   'temp_max': 11.36,\n   'pressure': 1013,\n   'humidity': 59},\n  'visibility': 10000,\n  'wind': {'speed': 1.79, 'deg': 90, 'gust': 4.47},\n  'clouds': {'all': 2},\n  'dt': 1709900259,\n  'sys': {'type': 2,\n   'id': 2007921,\n   'country': 'DE',\n   'sunrise': 1709877673,\n   'sunset': 1709918660},\n  'timezone': 3600,\n  'id': 2928810,\n  'name': 'Essen',\n  'cod': 200},\n {'coord': {'lon': 10, 'lat': 53.55},\n  'weather': [{'id': 800,\n    'main': 'Clear',\n    'description': 'clear sky',\n    'icon': '01d'}],\n  'base': 'stations',\n  'main': {'temp': 7.36,\n   'feels_like': 3.65,\n   'temp_min': 6.05,\n   'temp_max': 8.49,\n   'pressure': 1019,\n   'humidity': 58},\n  'visibility': 10000,\n  'wind': {'speed': 6.69, 'deg': 110},\n  'clouds': {'all': 0},\n  'dt': 1709900078,\n  'sys': {'type': 1,\n   'id': 1263,\n   'country': 'DE',\n   'sunrise': 1709877055,\n   'sunset': 1709917846},\n  'timezone': 3600,\n  'id': 2911298,\n  'name': 'Hamburg',\n  'cod': 200},\n {'coord': {'lon': 8.6833, 'lat': 50.1167},\n  'weather': [{'id': 800,\n    'main': 'Clear',\n    'description': 'clear sky',\n    'icon': '01d'}],\n  'base': 'stations',\n  'main': {'temp': 9.55,\n   'feels_like': 6.45,\n   'temp_min': 8.28,\n   'temp_max': 11.04,\n   'pressure': 1012,\n   'humidity': 56},\n  'visibility': 10000,\n  'wind': {'speed': 6.69, 'deg': 110},\n  'clouds': {'all': 0},\n  'dt': 1709899981,\n  'sys': {'type': 2,\n   'id': 2081434,\n   'country': 'DE',\n   'sunrise': 1709877216,\n   'sunset': 1709918317},\n  'timezone': 3600,\n  'id': 2925533,\n  'name': 'Frankfurt am Main',\n  'cod': 200},\n {'coord': {'lon': 11.5755, 'lat': 48.1374},\n  'weather': [{'id': 802,\n    'main': 'Clouds',\n    'description': 'scattered clouds',\n    'icon': '03d'}],\n  'base': 'stations',\n  'main': {'temp': 8.39,\n   'feels_like': 8.39,\n   'temp_min': 7.18,\n   'temp_max': 10.9,\n   'pressure': 1012,\n   'humidity': 67},\n  'visibility': 10000,\n  'wind': {'speed': 0.89, 'deg': 298, 'gust': 4.92},\n  'clouds': {'all': 31},\n  'dt': 1709900000,\n  'sys': {'type': 2,\n   'id': 2002112,\n   'country': 'DE',\n   'sunrise': 1709876443,\n   'sunset': 1709917702},\n  'timezone': 3600,\n  'id': 2867714,\n  'name': 'Munich',\n  'cod': 200},\n {'coord': {'lon': 9.177, 'lat': 48.7823},\n  'weather': [{'id': 803,\n    'main': 'Clouds',\n    'description': 'broken clouds',\n    'icon': '04d'}],\n  'base': 'stations',\n  'main': {'temp': 7.78,\n   'feels_like': 4.97,\n   'temp_min': 6.78,\n   'temp_max': 10.28,\n   'pressure': 1010,\n   'humidity': 69},\n  'visibility': 10000,\n  'wind': {'speed': 4.63, 'deg': 70},\n  'clouds': {'all': 75},\n  'dt': 1709900065,\n  'sys': {'type': 1,\n   'id': 1274,\n   'country': 'DE',\n   'sunrise': 1709877043,\n   'sunset': 1709918252},\n  'timezone': 3600,\n  'id': 2825297,\n  'name': 'Stuttgart',\n  'cod': 200}]"
     },
     "execution_count": 27,
     "metadata": {},
     "output_type": "execute_result"
    }
   ],
   "source": [
    "response_data"
   ],
   "metadata": {
    "collapsed": false,
    "ExecuteTime": {
     "end_time": "2024-03-08T12:37:20.046392Z",
     "start_time": "2024-03-08T12:37:20.033394Z"
    }
   },
   "id": "c6623c3fa470d269",
   "execution_count": 27
  },
  {
   "cell_type": "code",
   "outputs": [
    {
     "data": {
      "text/plain": "                              coord  \\\n0  {'lon': 13.4105, 'lat': 52.5244}   \n1     {'lon': 6.95, 'lat': 50.9333}   \n2     {'lon': 6.75, 'lat': 51.4333}   \n3     {'lon': 7.0167, 'lat': 51.45}   \n4         {'lon': 10, 'lat': 53.55}   \n5   {'lon': 8.6833, 'lat': 50.1167}   \n6  {'lon': 11.5755, 'lat': 48.1374}   \n7    {'lon': 9.177, 'lat': 48.7823}   \n\n                                             weather      base  \\\n0  [{'id': 800, 'main': 'Clear', 'description': '...  stations   \n1  [{'id': 800, 'main': 'Clear', 'description': '...  stations   \n2  [{'id': 800, 'main': 'Clear', 'description': '...  stations   \n3  [{'id': 800, 'main': 'Clear', 'description': '...  stations   \n4  [{'id': 800, 'main': 'Clear', 'description': '...  stations   \n5  [{'id': 800, 'main': 'Clear', 'description': '...  stations   \n6  [{'id': 802, 'main': 'Clouds', 'description': ...  stations   \n7  [{'id': 803, 'main': 'Clouds', 'description': ...  stations   \n\n                                                main  visibility  \\\n0  {'temp': 9.17, 'feels_like': 6.93, 'temp_min':...       10000   \n1  {'temp': 10.17, 'feels_like': 8.52, 'temp_min'...       10000   \n2  {'temp': 10.84, 'feels_like': 9.21, 'temp_min'...       10000   \n3  {'temp': 10.29, 'feels_like': 8.92, 'temp_min'...       10000   \n4  {'temp': 7.36, 'feels_like': 3.65, 'temp_min':...       10000   \n5  {'temp': 9.55, 'feels_like': 6.45, 'temp_min':...       10000   \n6  {'temp': 8.39, 'feels_like': 8.39, 'temp_min':...       10000   \n7  {'temp': 7.78, 'feels_like': 4.97, 'temp_min':...       10000   \n\n                                        wind       clouds          dt  \\\n0                {'speed': 4.12, 'deg': 110}   {'all': 0}  1709900073   \n1                {'speed': 7.72, 'deg': 140}   {'all': 0}  1709900174   \n2                {'speed': 8.75, 'deg': 120}   {'all': 0}  1709900244   \n3   {'speed': 1.79, 'deg': 90, 'gust': 4.47}   {'all': 2}  1709900259   \n4                {'speed': 6.69, 'deg': 110}   {'all': 0}  1709900078   \n5                {'speed': 6.69, 'deg': 110}   {'all': 0}  1709899981   \n6  {'speed': 0.89, 'deg': 298, 'gust': 4.92}  {'all': 31}  1709900000   \n7                 {'speed': 4.63, 'deg': 70}  {'all': 75}  1709900065   \n\n                                                 sys  timezone       id  \\\n0  {'type': 2, 'id': 2011538, 'country': 'DE', 's...      3600  2950159   \n1  {'type': 2, 'id': 2005976, 'country': 'DE', 's...      3600  2886242   \n2  {'type': 1, 'id': 1264, 'country': 'DE', 'sunr...      3600  2934691   \n3  {'type': 2, 'id': 2007921, 'country': 'DE', 's...      3600  2928810   \n4  {'type': 1, 'id': 1263, 'country': 'DE', 'sunr...      3600  2911298   \n5  {'type': 2, 'id': 2081434, 'country': 'DE', 's...      3600  2925533   \n6  {'type': 2, 'id': 2002112, 'country': 'DE', 's...      3600  2867714   \n7  {'type': 1, 'id': 1274, 'country': 'DE', 'sunr...      3600  2825297   \n\n                name  cod  \n0             Berlin  200  \n1            Cologne  200  \n2           Duisburg  200  \n3              Essen  200  \n4            Hamburg  200  \n5  Frankfurt am Main  200  \n6             Munich  200  \n7          Stuttgart  200  ",
      "text/html": "<div>\n<style scoped>\n    .dataframe tbody tr th:only-of-type {\n        vertical-align: middle;\n    }\n\n    .dataframe tbody tr th {\n        vertical-align: top;\n    }\n\n    .dataframe thead th {\n        text-align: right;\n    }\n</style>\n<table border=\"1\" class=\"dataframe\">\n  <thead>\n    <tr style=\"text-align: right;\">\n      <th></th>\n      <th>coord</th>\n      <th>weather</th>\n      <th>base</th>\n      <th>main</th>\n      <th>visibility</th>\n      <th>wind</th>\n      <th>clouds</th>\n      <th>dt</th>\n      <th>sys</th>\n      <th>timezone</th>\n      <th>id</th>\n      <th>name</th>\n      <th>cod</th>\n    </tr>\n  </thead>\n  <tbody>\n    <tr>\n      <th>0</th>\n      <td>{'lon': 13.4105, 'lat': 52.5244}</td>\n      <td>[{'id': 800, 'main': 'Clear', 'description': '...</td>\n      <td>stations</td>\n      <td>{'temp': 9.17, 'feels_like': 6.93, 'temp_min':...</td>\n      <td>10000</td>\n      <td>{'speed': 4.12, 'deg': 110}</td>\n      <td>{'all': 0}</td>\n      <td>1709900073</td>\n      <td>{'type': 2, 'id': 2011538, 'country': 'DE', 's...</td>\n      <td>3600</td>\n      <td>2950159</td>\n      <td>Berlin</td>\n      <td>200</td>\n    </tr>\n    <tr>\n      <th>1</th>\n      <td>{'lon': 6.95, 'lat': 50.9333}</td>\n      <td>[{'id': 800, 'main': 'Clear', 'description': '...</td>\n      <td>stations</td>\n      <td>{'temp': 10.17, 'feels_like': 8.52, 'temp_min'...</td>\n      <td>10000</td>\n      <td>{'speed': 7.72, 'deg': 140}</td>\n      <td>{'all': 0}</td>\n      <td>1709900174</td>\n      <td>{'type': 2, 'id': 2005976, 'country': 'DE', 's...</td>\n      <td>3600</td>\n      <td>2886242</td>\n      <td>Cologne</td>\n      <td>200</td>\n    </tr>\n    <tr>\n      <th>2</th>\n      <td>{'lon': 6.75, 'lat': 51.4333}</td>\n      <td>[{'id': 800, 'main': 'Clear', 'description': '...</td>\n      <td>stations</td>\n      <td>{'temp': 10.84, 'feels_like': 9.21, 'temp_min'...</td>\n      <td>10000</td>\n      <td>{'speed': 8.75, 'deg': 120}</td>\n      <td>{'all': 0}</td>\n      <td>1709900244</td>\n      <td>{'type': 1, 'id': 1264, 'country': 'DE', 'sunr...</td>\n      <td>3600</td>\n      <td>2934691</td>\n      <td>Duisburg</td>\n      <td>200</td>\n    </tr>\n    <tr>\n      <th>3</th>\n      <td>{'lon': 7.0167, 'lat': 51.45}</td>\n      <td>[{'id': 800, 'main': 'Clear', 'description': '...</td>\n      <td>stations</td>\n      <td>{'temp': 10.29, 'feels_like': 8.92, 'temp_min'...</td>\n      <td>10000</td>\n      <td>{'speed': 1.79, 'deg': 90, 'gust': 4.47}</td>\n      <td>{'all': 2}</td>\n      <td>1709900259</td>\n      <td>{'type': 2, 'id': 2007921, 'country': 'DE', 's...</td>\n      <td>3600</td>\n      <td>2928810</td>\n      <td>Essen</td>\n      <td>200</td>\n    </tr>\n    <tr>\n      <th>4</th>\n      <td>{'lon': 10, 'lat': 53.55}</td>\n      <td>[{'id': 800, 'main': 'Clear', 'description': '...</td>\n      <td>stations</td>\n      <td>{'temp': 7.36, 'feels_like': 3.65, 'temp_min':...</td>\n      <td>10000</td>\n      <td>{'speed': 6.69, 'deg': 110}</td>\n      <td>{'all': 0}</td>\n      <td>1709900078</td>\n      <td>{'type': 1, 'id': 1263, 'country': 'DE', 'sunr...</td>\n      <td>3600</td>\n      <td>2911298</td>\n      <td>Hamburg</td>\n      <td>200</td>\n    </tr>\n    <tr>\n      <th>5</th>\n      <td>{'lon': 8.6833, 'lat': 50.1167}</td>\n      <td>[{'id': 800, 'main': 'Clear', 'description': '...</td>\n      <td>stations</td>\n      <td>{'temp': 9.55, 'feels_like': 6.45, 'temp_min':...</td>\n      <td>10000</td>\n      <td>{'speed': 6.69, 'deg': 110}</td>\n      <td>{'all': 0}</td>\n      <td>1709899981</td>\n      <td>{'type': 2, 'id': 2081434, 'country': 'DE', 's...</td>\n      <td>3600</td>\n      <td>2925533</td>\n      <td>Frankfurt am Main</td>\n      <td>200</td>\n    </tr>\n    <tr>\n      <th>6</th>\n      <td>{'lon': 11.5755, 'lat': 48.1374}</td>\n      <td>[{'id': 802, 'main': 'Clouds', 'description': ...</td>\n      <td>stations</td>\n      <td>{'temp': 8.39, 'feels_like': 8.39, 'temp_min':...</td>\n      <td>10000</td>\n      <td>{'speed': 0.89, 'deg': 298, 'gust': 4.92}</td>\n      <td>{'all': 31}</td>\n      <td>1709900000</td>\n      <td>{'type': 2, 'id': 2002112, 'country': 'DE', 's...</td>\n      <td>3600</td>\n      <td>2867714</td>\n      <td>Munich</td>\n      <td>200</td>\n    </tr>\n    <tr>\n      <th>7</th>\n      <td>{'lon': 9.177, 'lat': 48.7823}</td>\n      <td>[{'id': 803, 'main': 'Clouds', 'description': ...</td>\n      <td>stations</td>\n      <td>{'temp': 7.78, 'feels_like': 4.97, 'temp_min':...</td>\n      <td>10000</td>\n      <td>{'speed': 4.63, 'deg': 70}</td>\n      <td>{'all': 75}</td>\n      <td>1709900065</td>\n      <td>{'type': 1, 'id': 1274, 'country': 'DE', 'sunr...</td>\n      <td>3600</td>\n      <td>2825297</td>\n      <td>Stuttgart</td>\n      <td>200</td>\n    </tr>\n  </tbody>\n</table>\n</div>"
     },
     "execution_count": 28,
     "metadata": {},
     "output_type": "execute_result"
    }
   ],
   "source": [
    "# Convert the list of dictionaries to DataFrame\n",
    "df = pd.DataFrame(response_data)\n",
    "df"
   ],
   "metadata": {
    "collapsed": false,
    "ExecuteTime": {
     "end_time": "2024-03-08T12:40:01.535851Z",
     "start_time": "2024-03-08T12:40:01.505223Z"
    }
   },
   "id": "3349db79e26bead9",
   "execution_count": 28
  },
  {
   "cell_type": "code",
   "outputs": [],
   "source": [
    "df.to_csv('weather_german_cities.csv')"
   ],
   "metadata": {
    "collapsed": false,
    "ExecuteTime": {
     "end_time": "2024-03-08T12:46:05.014962Z",
     "start_time": "2024-03-08T12:46:05.002135Z"
    }
   },
   "id": "9550e667b1caaadc",
   "execution_count": 29
  },
  {
   "cell_type": "code",
   "outputs": [],
   "source": [],
   "metadata": {
    "collapsed": false
   },
   "id": "37835d1396cdf2dc"
  }
 ],
 "metadata": {
  "kernelspec": {
   "display_name": "Python 3",
   "language": "python",
   "name": "python3"
  },
  "language_info": {
   "codemirror_mode": {
    "name": "ipython",
    "version": 2
   },
   "file_extension": ".py",
   "mimetype": "text/x-python",
   "name": "python",
   "nbconvert_exporter": "python",
   "pygments_lexer": "ipython2",
   "version": "2.7.6"
  }
 },
 "nbformat": 4,
 "nbformat_minor": 5
}
