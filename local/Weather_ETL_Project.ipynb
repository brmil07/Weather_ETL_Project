{
 "cells": [
  {
   "cell_type": "markdown",
   "id": "e3a2289dcc42dc8e",
   "metadata": {
    "collapsed": false
   },
   "source": [
    "# Weather ETL Project\n",
    "---"
   ]
  },
  {
   "cell_type": "markdown",
   "id": "75c682ba7daa6a93",
   "metadata": {
    "collapsed": false
   },
   "source": [
    "Field in API Response\n",
    "---\n",
    "\n",
    "* coord.lon: Longitude data\n",
    "* coord.lat: Latitude data\n",
    "* weather.id: Weather condition id\n",
    "* weather.main: Group of weather parameters (Rain, Snow, Clouds etc.)\n",
    "* weather.description: Weather condition within the group\n",
    "* weather.icon: Weather icon id\n",
    "* base: Data source (e.g., stations)\n",
    "* main.temp: Temperature in Celsius\n",
    "* main.feels_like: \"Feels like\" temperature in Celsius\n",
    "* main.temp_min: Minimum temperature in Celsius\n",
    "* main.temp_max: Maximum temperature in Celsius\n",
    "* main.pressure: Atmospheric pressure in hPa (hectopascal)\n",
    "* main.humidity: Relative humidity in percentage\n",
    "* visibility: Visibility in meters\n",
    "* wind.speed: Wind speed in meters per second\n",
    "* wind.deg: Wind direction in degrees\n",
    "* clouds.all: Cloudiness in percentage\n",
    "* dt: Time of data calculation in Unix timestamp\n",
    "* sys.type: Type of data retrieval (1 for internal use, 2 for API)\n",
    "* sys.id: Internal parameter\n",
    "* sys.country: Country code (e.g., DE for Germany)\n",
    "* sys.sunrise: Sunrise time in Unix timestamp\n",
    "* sys.sunset: Sunset time in Unix timestamp\n",
    "* timezone: Shift in seconds from UTC\n",
    "* id: City ID\n",
    "* name: City name\n",
    "* cod: HTTP status code of the response (200 for success)"
   ]
  },
  {
   "cell_type": "code",
   "execution_count": null,
   "id": "initial_id",
   "metadata": {
    "ExecuteTime": {
     "end_time": "2024-03-08T12:32:31.064782Z",
     "start_time": "2024-03-08T12:32:31.058317Z"
    },
    "collapsed": true
   },
   "outputs": [],
   "source": [
    "from datetime import datetime\n",
    "import requests\n",
    "import pandas as pd\n",
    "from config import BASE_URL, API_KEY"
   ]
  },
  {
   "cell_type": "code",
   "execution_count": null,
   "id": "dd19ad708058ff8f",
   "metadata": {
    "collapsed": false
   },
   "outputs": [],
   "source": [
    "# url = BASE_URL + \"appid=\" + API_KEY + \"&q=\" + CITY + \"&units=metric\"\n",
    "# # Send an HTTP GET request to the specified URL and then parse the response content, \n",
    "# # assuming it is in JSON format, and return it as a Python dictionary\n",
    "# response = requests.get(url).json()\n",
    "# response"
   ]
  },
  {
   "cell_type": "code",
   "execution_count": null,
   "id": "fb30b7942240fc7",
   "metadata": {
    "collapsed": false
   },
   "outputs": [],
   "source": [
    "CITY = 'cologne'\n",
    "# Define an empty list to store responses\n",
    "responses = []\n",
    "\n",
    "current_date = datetime.today()\n",
    "unix_timestamp = int(current_date.timestamp())\n",
    "\n",
    "# Construct the URL for historical data for the current date\n",
    "url = BASE_URL + \"appid=\" + API_KEY + \"&q=\" + CITY + \"&units=metric\" + \"&dt=\" + str(unix_timestamp)\n",
    "\n",
    "# Make the request and append the response to the list\n",
    "response = requests.get(url).json()\n",
    "responses.append(response)\n",
    "\n",
    "responses"
   ]
  },
  {
   "cell_type": "code",
   "execution_count": null,
   "id": "ab8c86aec448909a",
   "metadata": {
    "ExecuteTime": {
     "end_time": "2024-03-08T12:17:38.235488Z",
     "start_time": "2024-03-08T12:17:38.219161Z"
    },
    "collapsed": false
   },
   "outputs": [],
   "source": [
    "CITY_LIST = ['berlin', 'cologne', 'duisburg', 'essen', 'hamburg', 'frankfurt', 'munich', 'stuttgart']\n",
    "response_data = []"
   ]
  },
  {
   "cell_type": "code",
   "execution_count": null,
   "id": "bc73284dbbd94d2",
   "metadata": {
    "ExecuteTime": {
     "end_time": "2024-03-08T12:17:39.484756Z",
     "start_time": "2024-03-08T12:17:38.638738Z"
    },
    "collapsed": false
   },
   "outputs": [],
   "source": [
    "current_date = datetime.today()\n",
    "unix_timestamp = int(current_date.timestamp())\n",
    "\n",
    "for i in range(len(CITY_LIST)):\n",
    "    CITY = CITY_LIST[i]\n",
    "    # Construct the URL for historical data for the current date\n",
    "    url = BASE_URL + \"appid=\" + API_KEY + \"&q=\" + CITY + \"&units=metric\" + \"&dt=\" + str(unix_timestamp)\n",
    "    \n",
    "    # Make the request and append the response to the list\n",
    "    response = requests.get(url).json()\n",
    "    response_data.append(response)\n",
    "\n",
    "response_data"
   ]
  },
  {
   "cell_type": "markdown",
   "id": "56ba87e31322fb3",
   "metadata": {
    "collapsed": false
   },
   "source": [
    "# Converting into dataframe\n",
    "---"
   ]
  },
  {
   "cell_type": "code",
   "execution_count": null,
   "id": "17ed8f6a83dba212",
   "metadata": {
    "collapsed": false
   },
   "outputs": [],
   "source": [
    "print('Minimum Temperature:', response_data[7]['main']['temp_min'], '*C')"
   ]
  },
  {
   "cell_type": "code",
   "execution_count": null,
   "id": "efd8c2a18060b873",
   "metadata": {
    "collapsed": false
   },
   "outputs": [],
   "source": [
    "sunrise_time = datetime.utcfromtimestamp(response_data[7]['sys']['sunrise'] + response_data[0]['timezone'])\n",
    "sunset_time = datetime.utcfromtimestamp(response_data[7]['sys']['sunset'] + response_data[0]['timezone'])\n",
    "\n",
    "print('Sunrise Time:', sunrise_time)\n",
    "print('Sunset Time:', sunset_time)"
   ]
  },
  {
   "cell_type": "code",
   "execution_count": null,
   "id": "52de5faf88fc7496",
   "metadata": {
    "ExecuteTime": {
     "end_time": "2024-03-08T12:17:50.762147Z",
     "start_time": "2024-03-08T12:17:50.739559Z"
    },
    "collapsed": false
   },
   "outputs": [],
   "source": [
    "# Convert the nested JSON data into a pandas DataFrame\n",
    "df = pd.json_normalize(response_data[0])\n",
    "data_df = pd.concat([df.drop(columns=['weather']), pd.json_normalize(df['weather'][0])], axis=1)\n",
    "data_df.columns"
   ]
  },
  {
   "cell_type": "code",
   "execution_count": null,
   "id": "c6623c3fa470d269",
   "metadata": {
    "ExecuteTime": {
     "end_time": "2024-03-08T12:37:20.046392Z",
     "start_time": "2024-03-08T12:37:20.033394Z"
    },
    "collapsed": false
   },
   "outputs": [],
   "source": [
    "response_data"
   ]
  },
  {
   "cell_type": "code",
   "execution_count": null,
   "id": "3349db79e26bead9",
   "metadata": {
    "ExecuteTime": {
     "end_time": "2024-03-08T12:40:01.535851Z",
     "start_time": "2024-03-08T12:40:01.505223Z"
    },
    "collapsed": false
   },
   "outputs": [],
   "source": [
    "# Convert the list of dictionaries to DataFrame\n",
    "df = pd.DataFrame(response_data)\n",
    "df"
   ]
  },
  {
   "cell_type": "code",
   "execution_count": null,
   "id": "9550e667b1caaadc",
   "metadata": {
    "ExecuteTime": {
     "end_time": "2024-03-08T12:46:05.014962Z",
     "start_time": "2024-03-08T12:46:05.002135Z"
    },
    "collapsed": false
   },
   "outputs": [],
   "source": [
    "df.to_csv('weather_german_cities.csv')"
   ]
  }
 ],
 "metadata": {
  "kernelspec": {
   "display_name": "Python 3",
   "language": "python",
   "name": "python3"
  },
  "language_info": {
   "codemirror_mode": {
    "name": "ipython",
    "version": 3
   },
   "file_extension": ".py",
   "mimetype": "text/x-python",
   "name": "python",
   "nbconvert_exporter": "python",
   "pygments_lexer": "ipython3",
   "version": "3.12.4"
  }
 },
 "nbformat": 4,
 "nbformat_minor": 5
}
